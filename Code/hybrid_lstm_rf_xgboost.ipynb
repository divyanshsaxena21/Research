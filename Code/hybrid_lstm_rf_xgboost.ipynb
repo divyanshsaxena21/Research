{
  "nbformat": 4,
  "nbformat_minor": 0,
  "metadata": {
    "colab": {
      "provenance": []
    },
    "kernelspec": {
      "name": "python3",
      "display_name": "Python 3"
    },
    "language_info": {
      "name": "python"
    }
  },
  "cells": [
    {
      "cell_type": "code",
      "source": [
        "\n",
        "# Load Dataset (Modify path as needed)\n",
        "data = pd.read_csv(\"/content/drive/MyDrive/Bitsecure/all_three.csv\")\n",
        "\n",
        "data.columns\n"
      ],
      "metadata": {
        "colab": {
          "base_uri": "https://localhost:8080/"
        },
        "id": "jmjC2LhD3a90",
        "outputId": "60ec4202-cfd6-41af-bf01-c87bc9317b73"
      },
      "execution_count": null,
      "outputs": [
        {
          "output_type": "execute_result",
          "data": {
            "text/plain": [
              "Index(['Unnamed: 0', 'balance', 'label', 'rec/sent', 'amount', 'block_id',\n",
              "       'size', 'weight', 'version', 'lock_time', 'is_coinbase', 'has_witness',\n",
              "       'input_count', 'output_count', 'input_total', 'input_total_usd',\n",
              "       'output_total', 'output_total_usd', 'fee', 'fee_usd', 'fee_per_kb',\n",
              "       'fee_per_kb_usd', 'fee_per_kwu', 'fee_per_kwu_usd', 'cdd_total'],\n",
              "      dtype='object')"
            ]
          },
          "metadata": {},
          "execution_count": 5
        }
      ]
    },
    {
      "cell_type": "markdown",
      "source": [],
      "metadata": {
        "id": "wvQ-xhhA3auE"
      }
    },
    {
      "cell_type": "code",
      "execution_count": null,
      "metadata": {
        "colab": {
          "base_uri": "https://localhost:8080/"
        },
        "id": "k8cE9g2j2ag8",
        "outputId": "afd5d8a6-2198-4f87-9057-cc5ea23e3e6d"
      },
      "outputs": [
        {
          "output_type": "stream",
          "name": "stderr",
          "text": [
            "/usr/local/lib/python3.11/dist-packages/keras/src/layers/rnn/rnn.py:200: UserWarning: Do not pass an `input_shape`/`input_dim` argument to a layer. When using Sequential models, prefer using an `Input(shape)` object as the first layer in the model instead.\n",
            "  super().__init__(**kwargs)\n"
          ]
        },
        {
          "output_type": "stream",
          "name": "stdout",
          "text": [
            "Epoch 1/10\n",
            "\u001b[1m10691/10691\u001b[0m \u001b[32m━━━━━━━━━━━━━━━━━━━━\u001b[0m\u001b[37m\u001b[0m \u001b[1m71s\u001b[0m 6ms/step - accuracy: 0.7376 - loss: -28.5393 - val_accuracy: 0.7637 - val_loss: -106.2502\n",
            "Epoch 2/10\n",
            "\u001b[1m10691/10691\u001b[0m \u001b[32m━━━━━━━━━━━━━━━━━━━━\u001b[0m\u001b[37m\u001b[0m \u001b[1m62s\u001b[0m 6ms/step - accuracy: 0.7661 - loss: -131.6750 - val_accuracy: 0.7683 - val_loss: -209.0538\n",
            "Epoch 3/10\n",
            "\u001b[1m10691/10691\u001b[0m \u001b[32m━━━━━━━━━━━━━━━━━━━━\u001b[0m\u001b[37m\u001b[0m \u001b[1m76s\u001b[0m 5ms/step - accuracy: 0.7689 - loss: -233.2707 - val_accuracy: 0.7681 - val_loss: -312.2851\n",
            "Epoch 4/10\n",
            "\u001b[1m10691/10691\u001b[0m \u001b[32m━━━━━━━━━━━━━━━━━━━━\u001b[0m\u001b[37m\u001b[0m \u001b[1m87s\u001b[0m 6ms/step - accuracy: 0.7679 - loss: -335.5335 - val_accuracy: 0.7667 - val_loss: -418.1277\n",
            "Epoch 5/10\n",
            "\u001b[1m10691/10691\u001b[0m \u001b[32m━━━━━━━━━━━━━━━━━━━━\u001b[0m\u001b[37m\u001b[0m \u001b[1m55s\u001b[0m 5ms/step - accuracy: 0.7697 - loss: -442.0724 - val_accuracy: 0.7723 - val_loss: -530.6028\n",
            "Epoch 6/10\n",
            "\u001b[1m10691/10691\u001b[0m \u001b[32m━━━━━━━━━━━━━━━━━━━━\u001b[0m\u001b[37m\u001b[0m \u001b[1m62s\u001b[0m 6ms/step - accuracy: 0.7701 - loss: -551.7919 - val_accuracy: 0.7726 - val_loss: -636.8856\n",
            "Epoch 7/10\n",
            "\u001b[1m10691/10691\u001b[0m \u001b[32m━━━━━━━━━━━━━━━━━━━━\u001b[0m\u001b[37m\u001b[0m \u001b[1m57s\u001b[0m 5ms/step - accuracy: 0.7716 - loss: -655.8520 - val_accuracy: 0.7730 - val_loss: -741.4950\n",
            "Epoch 8/10\n",
            "\u001b[1m10691/10691\u001b[0m \u001b[32m━━━━━━━━━━━━━━━━━━━━\u001b[0m\u001b[37m\u001b[0m \u001b[1m55s\u001b[0m 5ms/step - accuracy: 0.7718 - loss: -759.9044 - val_accuracy: 0.7733 - val_loss: -847.7322\n",
            "Epoch 9/10\n",
            "\u001b[1m10691/10691\u001b[0m \u001b[32m━━━━━━━━━━━━━━━━━━━━\u001b[0m\u001b[37m\u001b[0m \u001b[1m55s\u001b[0m 5ms/step - accuracy: 0.7715 - loss: -869.5357 - val_accuracy: 0.7736 - val_loss: -952.7469\n",
            "Epoch 10/10\n",
            "\u001b[1m10691/10691\u001b[0m \u001b[32m━━━━━━━━━━━━━━━━━━━━\u001b[0m\u001b[37m\u001b[0m \u001b[1m56s\u001b[0m 5ms/step - accuracy: 0.7734 - loss: -966.3251 - val_accuracy: 0.7738 - val_loss: -1056.1099\n",
            "\u001b[1m2673/2673\u001b[0m \u001b[32m━━━━━━━━━━━━━━━━━━━━\u001b[0m\u001b[37m\u001b[0m \u001b[1m5s\u001b[0m 2ms/step\n"
          ]
        },
        {
          "output_type": "stream",
          "name": "stderr",
          "text": [
            "/usr/local/lib/python3.11/dist-packages/xgboost/core.py:158: UserWarning: [19:12:31] WARNING: /workspace/src/learner.cc:740: \n",
            "Parameters: { \"use_label_encoder\" } are not used.\n",
            "\n",
            "  warnings.warn(smsg, UserWarning)\n"
          ]
        },
        {
          "output_type": "stream",
          "name": "stdout",
          "text": [
            "LSTM Accuracy: 0.7738\n",
            "Random Forest Accuracy: 0.9843\n",
            "XGBoost Accuracy: 0.9819\n",
            "Ensemble Model Accuracy: 0.9106\n"
          ]
        }
      ],
      "source": [
        "import numpy as np\n",
        "import pandas as pd\n",
        "import tensorflow as tf\n",
        "from tensorflow.keras.models import Sequential\n",
        "from tensorflow.keras.layers import LSTM, Dense, Dropout\n",
        "from sklearn.model_selection import train_test_split\n",
        "from sklearn.preprocessing import StandardScaler\n",
        "from sklearn.ensemble import RandomForestClassifier\n",
        "from xgboost import XGBClassifier\n",
        "from sklearn.metrics import accuracy_score\n",
        "\n",
        "# Load Dataset (Modify path as needed)\n",
        "#data = pd.read_csv(\"your_dataset.csv\")\n",
        "\n",
        "# Data Preprocessing\n",
        "def preprocess_data(df):\n",
        "    X = df.drop(columns=['label'])  # 'label' is the fraud indicator column\n",
        "    y = df['label']\n",
        "    scaler = StandardScaler()\n",
        "    X_scaled = scaler.fit_transform(X)\n",
        "    return X_scaled, y, scaler\n",
        "\n",
        "X, y, scaler = preprocess_data(data)\n",
        "X_train, X_test, y_train, y_test = train_test_split(X, y, test_size=0.2, random_state=42)\n",
        "\n",
        "# Reshape Data for LSTM\n",
        "X_train_lstm = X_train.reshape((X_train.shape[0], 1, X_train.shape[1]))\n",
        "X_test_lstm = X_test.reshape((X_test.shape[0], 1, X_test.shape[1]))\n",
        "\n",
        "# LSTM Model\n",
        "def build_lstm(input_shape):\n",
        "    model = Sequential([\n",
        "        LSTM(50, return_sequences=True, input_shape=input_shape),\n",
        "        Dropout(0.2),\n",
        "        LSTM(50),\n",
        "        Dropout(0.2),\n",
        "        Dense(1, activation='sigmoid')\n",
        "    ])\n",
        "    model.compile(optimizer='adam', loss='binary_crossentropy', metrics=['accuracy'])\n",
        "    return model\n",
        "\n",
        "lstm_model = build_lstm((1, X_train.shape[1]))\n",
        "lstm_model.fit(X_train_lstm, y_train, epochs=10, batch_size=32, validation_data=(X_test_lstm, y_test))\n",
        "\n",
        "# LSTM Predictions\n",
        "lstm_pred = lstm_model.predict(X_test_lstm).flatten()\n",
        "lstm_pred = (lstm_pred > 0.5).astype(int)\n",
        "\n",
        "# Random Forest Model\n",
        "rf_model = RandomForestClassifier(n_estimators=100, random_state=42)\n",
        "rf_model.fit(X_train, y_train)\n",
        "rf_pred = rf_model.predict(X_test)\n",
        "\n",
        "# XGBoost Model\n",
        "xgb_model = XGBClassifier(n_estimators=100, random_state=42, use_label_encoder=False, eval_metric='logloss')\n",
        "xgb_model.fit(X_train, y_train)\n",
        "xgb_pred = xgb_model.predict(X_test)\n",
        "\n",
        "# Soft Voting Ensemble\n",
        "def ensemble_predictions(pred1, pred2, pred3):\n",
        "    return np.round((pred1 + pred2 + pred3) / 3).astype(int)\n",
        "\n",
        "final_pred = ensemble_predictions(lstm_pred, rf_pred, xgb_pred)\n",
        "\n",
        "# Model Evaluation\n",
        "lstm_acc = accuracy_score(y_test, lstm_pred)\n",
        "rf_acc = accuracy_score(y_test, rf_pred)\n",
        "xgb_acc = accuracy_score(y_test, xgb_pred)\n",
        "ensemble_acc = accuracy_score(y_test, final_pred)\n",
        "\n",
        "print(f\"LSTM Accuracy: {lstm_acc:.4f}\")\n",
        "print(f\"Random Forest Accuracy: {rf_acc:.4f}\")\n",
        "print(f\"XGBoost Accuracy: {xgb_acc:.4f}\")\n",
        "print(f\"Ensemble Model Accuracy: {ensemble_acc:.4f}\")\n"
      ]
    },
    {
      "cell_type": "code",
      "source": [
        "import numpy as np\n",
        "\n",
        "def predict_fraud(ensemble_model, new_data):\n",
        "    \"\"\"\n",
        "    Predicts fraud probability and class for new Bitcoin transactions.\n",
        "\n",
        "    Parameters:\n",
        "    - ensemble_model: Trained hybrid ensemble model\n",
        "    - new_data: New transaction data (should be preprocessed similarly to training data)\n",
        "\n",
        "    Returns:\n",
        "    - fraud_probability: Probability of fraud (for threshold-based decision)\n",
        "    - predicted_class: 0 (Non-Fraud) or 1 (Fraud)\n",
        "    \"\"\"\n",
        "    # Ensure input is in the right shape (2D array)\n",
        "    if len(new_data.shape) == 1:\n",
        "        new_data = new_data.reshape(1, -1)\n",
        "\n",
        "    # Get predicted fraud probability (if soft voting or probability output is available)\n",
        "    fraud_probability = ensemble_model.predict_proba(new_data)[:, 1]\n",
        "\n",
        "    # Convert probability to class (assuming 0.5 threshold)\n",
        "    predicted_class = (fraud_probability >= 0.5).astype(int)\n",
        "\n",
        "    return fraud_probability, predicted_class\n"
      ],
      "metadata": {
        "id": "2Zen64BZ2_H4"
      },
      "execution_count": null,
      "outputs": []
    },
    {
      "cell_type": "code",
      "source": [
        "# Example new transaction (replace with actual values)\n",
        "new_transaction = np.array([0.2, 100.5, 0.05, 5000, 1, 0, 3.2, 0.7])  # Adjust feature size\n",
        "\n",
        "# Predict fraud probability and class\n",
        "fraud_prob, fraud_class = predict_fraud(ensemble_model, new_transaction)\n",
        "\n",
        "print(f\"Fraud Probability: {fraud_prob[0]:.4f}\")\n",
        "print(f\"Predicted Class: {'Fraud' if fraud_class[0] == 1 else 'Not Fraud'}\")\n"
      ],
      "metadata": {
        "colab": {
          "base_uri": "https://localhost:8080/",
          "height": 214
        },
        "id": "t3vYGO-r97xZ",
        "outputId": "aebd6aea-4b3c-475b-d8d6-801e1fa96f07"
      },
      "execution_count": null,
      "outputs": [
        {
          "output_type": "error",
          "ename": "NameError",
          "evalue": "name 'ensemble_model' is not defined",
          "traceback": [
            "\u001b[0;31m---------------------------------------------------------------------------\u001b[0m",
            "\u001b[0;31mNameError\u001b[0m                                 Traceback (most recent call last)",
            "\u001b[0;32m<ipython-input-8-577ba05d8a18>\u001b[0m in \u001b[0;36m<cell line: 0>\u001b[0;34m()\u001b[0m\n\u001b[1;32m      3\u001b[0m \u001b[0;34m\u001b[0m\u001b[0m\n\u001b[1;32m      4\u001b[0m \u001b[0;31m# Predict fraud probability and class\u001b[0m\u001b[0;34m\u001b[0m\u001b[0;34m\u001b[0m\u001b[0m\n\u001b[0;32m----> 5\u001b[0;31m \u001b[0mfraud_prob\u001b[0m\u001b[0;34m,\u001b[0m \u001b[0mfraud_class\u001b[0m \u001b[0;34m=\u001b[0m \u001b[0mpredict_fraud\u001b[0m\u001b[0;34m(\u001b[0m\u001b[0mensemble_model\u001b[0m\u001b[0;34m,\u001b[0m \u001b[0mnew_transaction\u001b[0m\u001b[0;34m)\u001b[0m\u001b[0;34m\u001b[0m\u001b[0;34m\u001b[0m\u001b[0m\n\u001b[0m\u001b[1;32m      6\u001b[0m \u001b[0;34m\u001b[0m\u001b[0m\n\u001b[1;32m      7\u001b[0m \u001b[0mprint\u001b[0m\u001b[0;34m(\u001b[0m\u001b[0;34mf\"Fraud Probability: {fraud_prob[0]:.4f}\"\u001b[0m\u001b[0;34m)\u001b[0m\u001b[0;34m\u001b[0m\u001b[0;34m\u001b[0m\u001b[0m\n",
            "\u001b[0;31mNameError\u001b[0m: name 'ensemble_model' is not defined"
          ]
        }
      ]
    },
    {
      "cell_type": "code",
      "source": [],
      "metadata": {
        "id": "dSOpEFEl-CrJ"
      },
      "execution_count": null,
      "outputs": []
    }
  ]
}