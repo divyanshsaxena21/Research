{
  "nbformat": 4,
  "nbformat_minor": 0,
  "metadata": {
    "colab": {
      "provenance": [],
      "gpuType": "T4"
    },
    "kernelspec": {
      "name": "python3",
      "display_name": "Python 3"
    },
    "language_info": {
      "name": "python"
    },
    "accelerator": "GPU"
  },
  "cells": [
    {
      "cell_type": "code",
      "execution_count": null,
      "metadata": {
        "id": "obx55z3vdl7B"
      },
      "outputs": [],
      "source": [
        "import pandas as pd\n",
        "import numpy as np\n",
        "import seaborn as sns\n",
        "import matplotlib.pyplot as plt\n",
        "from sklearn.model_selection import train_test_split\n",
        "from sklearn.preprocessing import StandardScaler, MinMaxScaler\n",
        "from sklearn.ensemble import RandomForestClassifier, VotingClassifier\n",
        "from xgboost import XGBClassifier\n",
        "from sklearn.metrics import classification_report, roc_auc_score\n",
        "from imblearn.over_sampling import SMOTE\n",
        "import torch\n",
        "import torch.nn as nn\n",
        "import torch.optim as optim\n",
        "from torch.utils.data import DataLoader, TensorDataset"
      ]
    },
    {
      "cell_type": "markdown",
      "source": [
        "#load the dataset\n"
      ],
      "metadata": {
        "id": "iYyJ1PFNeWyg"
      }
    },
    {
      "cell_type": "code",
      "source": [
        "df = pd.read_csv('/content/drive/MyDrive/Bitsecure/all_three.csv')"
      ],
      "metadata": {
        "id": "hoNURL7Ed0hF"
      },
      "execution_count": null,
      "outputs": []
    },
    {
      "cell_type": "markdown",
      "source": [
        "\n",
        "# Drop unnecessary columns"
      ],
      "metadata": {
        "id": "tDU18j3mefs_"
      }
    },
    {
      "cell_type": "code",
      "source": [
        "df = df.drop(columns=['Unnamed: 0', 'block_id'])"
      ],
      "metadata": {
        "id": "mioGK80EeeHh"
      },
      "execution_count": null,
      "outputs": []
    },
    {
      "cell_type": "markdown",
      "source": [
        "# Handle missing values"
      ],
      "metadata": {
        "id": "BFwDKzgheoP7"
      }
    },
    {
      "cell_type": "code",
      "source": [
        "df.fillna(df.median(), inplace=True)"
      ],
      "metadata": {
        "id": "v-6wAluIek_p"
      },
      "execution_count": null,
      "outputs": []
    },
    {
      "cell_type": "markdown",
      "source": [
        "# Feature Engineering"
      ],
      "metadata": {
        "id": "7bUz69a9euJO"
      }
    },
    {
      "cell_type": "code",
      "source": [
        "df['fee_ratio'] = df['fee'] / (df['amount'] + 1e-6)\n",
        "df['input_output_ratio'] = df['input_total'] / (df['output_total'] + 1e-6)\n",
        "df['balance_change'] = df['input_total'] - df['output_total']\n"
      ],
      "metadata": {
        "id": "QR4W4ypverIY"
      },
      "execution_count": null,
      "outputs": []
    },
    {
      "cell_type": "markdown",
      "source": [
        "\n",
        "# Normalize numeric columns"
      ],
      "metadata": {
        "id": "Fnmta_hyey1w"
      }
    },
    {
      "cell_type": "code",
      "source": [
        "scaler = MinMaxScaler()\n",
        "numeric_cols = ['balance', 'amount', 'fee', 'input_total', 'output_total', 'fee_ratio', 'input_output_ratio']\n",
        "df[numeric_cols] = scaler.fit_transform(df[numeric_cols])"
      ],
      "metadata": {
        "id": "bwg9c25mew1Q"
      },
      "execution_count": null,
      "outputs": []
    },
    {
      "cell_type": "markdown",
      "source": [
        "# Handle class imbalance"
      ],
      "metadata": {
        "id": "h8WGh88-e5EQ"
      }
    },
    {
      "cell_type": "code",
      "source": [
        "X = df.drop(columns=['label'])\n",
        "y = df['label']\n",
        "smote = SMOTE()\n",
        "X_resampled, y_resampled = smote.fit_resample(X, y)\n"
      ],
      "metadata": {
        "id": "7B3ewP0Je07K"
      },
      "execution_count": null,
      "outputs": []
    },
    {
      "cell_type": "markdown",
      "source": [
        "# Train-test split"
      ],
      "metadata": {
        "id": "eRKtQG6-e-Ig"
      }
    },
    {
      "cell_type": "code",
      "source": [
        "X_train, X_test, y_train, y_test = train_test_split(X_resampled, y_resampled, test_size=0.2, random_state=40)\n"
      ],
      "metadata": {
        "id": "XozVfQ67e7wq"
      },
      "execution_count": null,
      "outputs": []
    },
    {
      "cell_type": "markdown",
      "source": [
        "# Convert data to PyTorch tensors"
      ],
      "metadata": {
        "id": "yoBQFJALfCi3"
      }
    },
    {
      "cell_type": "code",
      "source": [
        "X_train_tensor = torch.tensor(X_train.values, dtype=torch.float32)\n",
        "X_test_tensor = torch.tensor(X_test.values, dtype=torch.float32)\n",
        "y_train_tensor = torch.tensor(y_train.values, dtype=torch.long)\n",
        "y_test_tensor = torch.tensor(y_test.values, dtype=torch.long)\n"
      ],
      "metadata": {
        "id": "o_XsvcKpfAPK"
      },
      "execution_count": null,
      "outputs": []
    },
    {
      "cell_type": "markdown",
      "source": [
        "# Create DataLoader"
      ],
      "metadata": {
        "id": "1LaqmIpSfI1v"
      }
    },
    {
      "cell_type": "code",
      "source": [
        "train_dataset = TensorDataset(X_train_tensor, y_train_tensor)\n",
        "test_dataset = TensorDataset(X_test_tensor, y_test_tensor)\n",
        "train_loader = DataLoader(train_dataset, batch_size=32, shuffle=True)\n",
        "test_loader = DataLoader(test_dataset, batch_size=32, shuffle=False)\n"
      ],
      "metadata": {
        "id": "y0qMMviKfFaP"
      },
      "execution_count": null,
      "outputs": []
    },
    {
      "cell_type": "markdown",
      "source": [
        "# Defining LSTM Model"
      ],
      "metadata": {
        "id": "1ub5FcimfQJW"
      }
    },
    {
      "cell_type": "code",
      "source": [
        "class LSTMModel(nn.Module):\n",
        "    def __init__(self, input_size, hidden_size, num_layers, output_size):\n",
        "        super(LSTMModel, self).__init__()\n",
        "        self.lstm = nn.LSTM(input_size, hidden_size, num_layers, batch_first=True)\n",
        "        self.fc = nn.Linear(hidden_size, output_size)\n",
        "\n",
        "    def forward(self, x):\n",
        "        _, (hn, _) = self.lstm(x.unsqueeze(1))\n",
        "        out = self.fc(hn[-1])\n",
        "        return out"
      ],
      "metadata": {
        "id": "5FLQawptfPes"
      },
      "execution_count": null,
      "outputs": []
    },
    {
      "cell_type": "code",
      "source": [
        "print(y_train_tensor.unique())\n",
        "print(y_test_tensor.unique())\n"
      ],
      "metadata": {
        "colab": {
          "base_uri": "https://localhost:8080/"
        },
        "id": "GYqWj3x_gSX1",
        "outputId": "ff0f0982-16d7-4328-baef-ab0089b0b802"
      },
      "execution_count": null,
      "outputs": [
        {
          "output_type": "stream",
          "name": "stdout",
          "text": [
            "tensor([0, 1, 2, 3])\n",
            "tensor([0, 1, 2, 3])\n"
          ]
        }
      ]
    },
    {
      "cell_type": "markdown",
      "source": [
        "# Model initialization"
      ],
      "metadata": {
        "id": "b1EDWXRFfWG3"
      }
    },
    {
      "cell_type": "code",
      "source": [
        "lstm_model = LSTMModel(input_size=X_train.shape[1], hidden_size=64, num_layers=2, output_size=4)\n",
        "criterion = nn.CrossEntropyLoss()\n",
        "optimizer = optim.Adam(lstm_model.parameters(), lr=0.001)"
      ],
      "metadata": {
        "id": "c0AMWytKfKuv"
      },
      "execution_count": null,
      "outputs": []
    },
    {
      "cell_type": "markdown",
      "source": [
        "# Training LSTM Model"
      ],
      "metadata": {
        "id": "NOS9d0ygfc15"
      }
    },
    {
      "cell_type": "code",
      "source": [
        "def train_lstm(model, train_loader, criterion, optimizer, epochs=10):\n",
        "    model.train()\n",
        "    for epoch in range(epochs):\n",
        "        for X_batch, y_batch in train_loader:\n",
        "            optimizer.zero_grad()\n",
        "            outputs = model(X_batch)\n",
        "            loss = criterion(outputs, y_batch)\n",
        "            loss.backward()\n",
        "            optimizer.step()\n",
        "        print(f'Epoch {epoch+1}/{epochs}, Loss: {loss.item():.4f}')\n",
        "\n",
        "train_lstm(lstm_model, train_loader, criterion, optimizer)"
      ],
      "metadata": {
        "colab": {
          "base_uri": "https://localhost:8080/"
        },
        "id": "UiHympz8fYvZ",
        "outputId": "4fc0944b-8ca6-48f0-8eb3-b8962fc1bfbc"
      },
      "execution_count": null,
      "outputs": [
        {
          "output_type": "stream",
          "name": "stdout",
          "text": [
            "Epoch 1/10, Loss: 0.5781\n",
            "Epoch 2/10, Loss: 0.5900\n",
            "Epoch 3/10, Loss: 0.8261\n",
            "Epoch 4/10, Loss: 0.3538\n",
            "Epoch 5/10, Loss: 0.5538\n",
            "Epoch 6/10, Loss: 0.4039\n",
            "Epoch 7/10, Loss: 0.5159\n",
            "Epoch 8/10, Loss: 0.6246\n",
            "Epoch 9/10, Loss: 0.6955\n",
            "Epoch 10/10, Loss: 0.8734\n"
          ]
        }
      ]
    },
    {
      "cell_type": "code",
      "source": [],
      "metadata": {
        "id": "gJIoqcWCfhxl"
      },
      "execution_count": null,
      "outputs": []
    },
    {
      "cell_type": "code",
      "source": [
        "print(y_train_tensor.unique())\n",
        "print(y_test_tensor.unique())\n"
      ],
      "metadata": {
        "colab": {
          "base_uri": "https://localhost:8080/"
        },
        "id": "Uxhp83Ipf0jp",
        "outputId": "bfad4759-f997-44cd-f694-6308300d6749"
      },
      "execution_count": null,
      "outputs": [
        {
          "output_type": "stream",
          "name": "stdout",
          "text": [
            "tensor([0, 1, 2, 3])\n",
            "tensor([0, 1, 2, 3])\n"
          ]
        }
      ]
    },
    {
      "cell_type": "code",
      "source": [
        "# Evaluate LSTM Model\n",
        "def evaluate_lstm(model, test_loader):\n",
        "    model.eval()\n",
        "    all_preds, all_labels = [], []\n",
        "    with torch.no_grad():\n",
        "        for X_batch, y_batch in test_loader:\n",
        "            outputs = model(X_batch)\n",
        "            preds = torch.argmax(outputs, dim=1)\n",
        "            all_preds.extend(preds.numpy())\n",
        "            all_labels.extend(y_batch.numpy())\n",
        "    print(classification_report(all_labels, all_preds))\n",
        "    print(\"AUC-ROC Score:\", roc_auc_score(all_labels, all_preds))\n",
        "\n",
        "evaluate_lstm(lstm_model, test_loader)\n"
      ],
      "metadata": {
        "id": "sumrCfCsgEK8"
      },
      "execution_count": null,
      "outputs": []
    },
    {
      "cell_type": "code",
      "source": [
        "# Train traditional models\n",
        "xgb = XGBClassifier()\n",
        "rf = RandomForestClassifier()\n",
        "ensemble_model = VotingClassifier(estimators=[('xgb', xgb), ('rf', rf)], voting='soft')\n",
        "ensemble_model.fit(X_train, y_train)\n",
        "y_pred = ensemble_model.predict(X_test)\n"
      ],
      "metadata": {
        "id": "3ezA7h60lppZ"
      },
      "execution_count": null,
      "outputs": []
    },
    {
      "cell_type": "code",
      "source": [
        "import numpy as np\n",
        "\n",
        "y_test = np.array(y_test)\n",
        "y_pred = np.array(y_pred)\n",
        "\n",
        "print(\"y_test shape:\", y_test.shape, \"y_pred shape:\", y_pred.shape)\n",
        "print(\"y_test dtype:\", y_test.dtype, \"y_pred dtype:\", y_pred.dtype)\n"
      ],
      "metadata": {
        "colab": {
          "base_uri": "https://localhost:8080/"
        },
        "id": "tm1B2ahQtl7O",
        "outputId": "2a3d9d77-8376-4cf9-bb73-f531702abfc3"
      },
      "execution_count": null,
      "outputs": [
        {
          "output_type": "stream",
          "name": "stdout",
          "text": [
            "y_test shape: (268678,) y_pred shape: (268678,)\n",
            "y_test dtype: int64 y_pred dtype: int64\n"
          ]
        }
      ]
    },
    {
      "cell_type": "code",
      "source": [
        "y_pred = y_pred.flatten()\n"
      ],
      "metadata": {
        "id": "yG-vu5cutrYW"
      },
      "execution_count": null,
      "outputs": []
    },
    {
      "cell_type": "code",
      "source": [
        "print(\"Unique values in y_test:\", np.unique(y_test))\n",
        "print(\"Unique values in y_pred:\", np.unique(y_pred))\n"
      ],
      "metadata": {
        "colab": {
          "base_uri": "https://localhost:8080/"
        },
        "id": "xd5shu_utu8c",
        "outputId": "7b42d45a-77a8-4268-d267-cc9ab30cb616"
      },
      "execution_count": null,
      "outputs": [
        {
          "output_type": "stream",
          "name": "stdout",
          "text": [
            "Unique values in y_test: [0 1 2 3]\n",
            "Unique values in y_pred: [0 1 2 3]\n"
          ]
        }
      ]
    },
    {
      "cell_type": "code",
      "source": [
        "from sklearn.metrics import classification_report\n",
        "\n",
        "labels = np.unique(np.concatenate([y_test, y_pred]))  # Get all unique labels\n",
        "print(classification_report(y_test, y_pred, labels=labels))\n"
      ],
      "metadata": {
        "colab": {
          "base_uri": "https://localhost:8080/"
        },
        "id": "4mi_-gcUtu5d",
        "outputId": "46e9c2d5-d11c-4849-d6cf-cfced0f685ce"
      },
      "execution_count": null,
      "outputs": [
        {
          "output_type": "stream",
          "name": "stdout",
          "text": [
            "              precision    recall  f1-score   support\n",
            "\n",
            "           0       1.00      0.98      0.99     66597\n",
            "           1       1.00      1.00      1.00     67663\n",
            "           2       1.00      1.00      1.00     67128\n",
            "           3       0.98      1.00      0.99     67290\n",
            "\n",
            "    accuracy                           0.99    268678\n",
            "   macro avg       0.99      0.99      0.99    268678\n",
            "weighted avg       0.99      0.99      0.99    268678\n",
            "\n"
          ]
        }
      ]
    },
    {
      "cell_type": "code",
      "source": [
        "y_pred_scores = ensemble_model.predict_proba(X_test)  # Use predict_proba instead of decision_function\n",
        "print(\"AUC-ROC Score:\", roc_auc_score(y_test, y_pred_scores, multi_class='ovr'))\n"
      ],
      "metadata": {
        "colab": {
          "base_uri": "https://localhost:8080/"
        },
        "id": "aRYikM73tuZr",
        "outputId": "d08a9dfc-4a93-4809-9aef-0aff34c118c7"
      },
      "execution_count": null,
      "outputs": [
        {
          "output_type": "stream",
          "name": "stdout",
          "text": [
            "AUC-ROC Score: 0.9999032888335594\n"
          ]
        }
      ]
    },
    {
      "cell_type": "code",
      "source": [],
      "metadata": {
        "id": "_evORSJqx9uB"
      },
      "execution_count": null,
      "outputs": []
    },
    {
      "cell_type": "markdown",
      "source": [],
      "metadata": {
        "id": "_1y6Eah-tuN8"
      }
    },
    {
      "cell_type": "code",
      "source": [
        "import seaborn as sns\n",
        "\n",
        "# Count instances in each class\n",
        "sns.countplot(x=y_train)\n",
        "\n"
      ],
      "metadata": {
        "colab": {
          "base_uri": "https://localhost:8080/",
          "height": 467
        },
        "id": "goyrI0qklwnj",
        "outputId": "46f0bb9c-9ba0-4e4e-d2a2-6737bfb89d48"
      },
      "execution_count": null,
      "outputs": [
        {
          "output_type": "execute_result",
          "data": {
            "text/plain": [
              "<Axes: xlabel='label', ylabel='count'>"
            ]
          },
          "metadata": {},
          "execution_count": 38
        },
        {
          "output_type": "display_data",
          "data": {
            "text/plain": [
              "<Figure size 640x480 with 1 Axes>"
            ],
            "image/png": "[encoded data removed]"
          },
          "metadata": {}
        }
      ]
    },
    {
      "cell_type": "code",
      "source": [
        "train_accuracy = ensemble_model.score(X_train, y_train)\n",
        "test_accuracy = ensemble_model.score(X_test, y_test)\n",
        "\n",
        "print(f\"Training Accuracy: {train_accuracy:.4f}\")\n",
        "print(f\"Test Accuracy: {test_accuracy:.4f}\")\n",
        "\n",
        "\n"
      ],
      "metadata": {
        "colab": {
          "base_uri": "https://localhost:8080/"
        },
        "id": "eE67aHphl37b",
        "outputId": "1ebc001f-4968-4dbb-a821-a52eb14c745c"
      },
      "execution_count": null,
      "outputs": [
        {
          "output_type": "stream",
          "name": "stdout",
          "text": [
            "Training Accuracy: 0.9976\n",
            "Test Accuracy: 0.9948\n"
          ]
        }
      ]
    },
    {
      "cell_type": "code",
      "source": [
        "from sklearn.metrics import roc_auc_score\n",
        "\n",
        "# Get predicted probabilities (not class labels)\n",
        "y_pred_probs = ensemble_model.predict_proba(X_test)\n",
        "\n",
        "# Compute AUC-ROC score\n",
        "auc_score = roc_auc_score(y_test, y_pred_probs, multi_class='ovr')\n",
        "print(f\"AUC-ROC Score: {auc_score:.4f}\")\n"
      ],
      "metadata": {
        "colab": {
          "base_uri": "https://localhost:8080/"
        },
        "id": "AmoEdvoJmORy",
        "outputId": "3e66ad74-9d3f-47b4-87bf-929191c1768f"
      },
      "execution_count": null,
      "outputs": [
        {
          "output_type": "stream",
          "name": "stdout",
          "text": [
            "AUC-ROC Score: 0.9999\n"
          ]
        }
      ]
    },
    {
      "cell_type": "code",
      "source": [
        "fig, axes = plt.subplots(1, 2, figsize=(12, 5))\n",
        "\n",
        "sns.countplot(x=y, ax=axes[0])\n",
        "axes[0].set_title(\"Class Distribution Before SMOTE\")\n",
        "\n",
        "sns.countplot(x=y_resampled, ax=axes[1])\n",
        "axes[1].set_title(\"Class Distribution After SMOTE\")\n",
        "\n",
        "plt.show()"
      ],
      "metadata": {
        "colab": {
          "base_uri": "https://localhost:8080/",
          "height": 304
        },
        "id": "n7bRO8PCvs0A",
        "outputId": "2b619d91-ef9f-4bb5-85dc-b2eff19ef0c4"
      },
      "execution_count": null,
      "outputs": [
        {
          "output_type": "display_data",
          "data": {
            "text/plain": [
              "<Figure size 1200x500 with 2 Axes>"
            ],
            "image/png": "[encoded data removed]"
          },
          "metadata": {}
        }
      ]
    },
    {
      "cell_type": "code",
      "source": [],
      "metadata": {
        "id": "68Ml9pBCyxIT"
      },
      "execution_count": null,
      "outputs": []
    }
  ]
}