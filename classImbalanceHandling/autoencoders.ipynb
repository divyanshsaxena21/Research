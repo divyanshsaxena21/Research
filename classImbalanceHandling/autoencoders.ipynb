{
 "cells": [
  {
   "cell_type": "code",
   "execution_count": 3,
   "id": "833dd2f0",
   "metadata": {},
   "outputs": [
    {
     "name": "stdout",
     "output_type": "stream",
     "text": [
      "\u001b[1m13364/13364\u001b[0m \u001b[32m━━━━━━━━━━━━━━━━━━━━\u001b[0m\u001b[37m\u001b[0m \u001b[1m59s\u001b[0m 4ms/step\n",
      "              precision    recall  f1-score   support\n",
      "\n",
      "           0       0.79      0.99      0.88    335847\n",
      "           1       0.27      0.01      0.03     91778\n",
      "\n",
      "    accuracy                           0.78    427625\n",
      "   macro avg       0.53      0.50      0.45    427625\n",
      "weighted avg       0.67      0.78      0.69    427625\n",
      "\n"
     ]
    }
   ],
   "source": [
    "import pandas as pd\n",
    "import numpy as np\n",
    "from sklearn.preprocessing import StandardScaler\n",
    "from sklearn.model_selection import train_test_split\n",
    "from sklearn.metrics import classification_report\n",
    "from tensorflow.keras.models import Model\n",
    "from tensorflow.keras.layers import Input, Dense\n",
    "from tensorflow.keras.optimizers import Adam\n",
    "\n",
    "# Load data\n",
    "df = pd.read_csv(\"dataset.csv\")\n",
    "X = df.drop(columns=[\"Unnamed: 0\", \"label\"])\n",
    "y = df[\"label\"]\n",
    "\n",
    "# Normalize\n",
    "scaler = StandardScaler()\n",
    "X_scaled = scaler.fit_transform(X)\n",
    "\n",
    "# Use only class 0 to train autoencoder\n",
    "X_train_ae = X_scaled[y == 0]\n",
    "\n",
    "# Build autoencoder\n",
    "input_dim = X_train_ae.shape[1]\n",
    "input_layer = Input(shape=(input_dim,))\n",
    "encoded = Dense(16, activation='relu')(input_layer)\n",
    "encoded = Dense(8, activation='relu')(encoded)\n",
    "decoded = Dense(16, activation='relu')(encoded)\n",
    "output_layer = Dense(input_dim, activation='linear')(decoded)\n",
    "\n",
    "autoencoder = Model(inputs=input_layer, outputs=output_layer)\n",
    "autoencoder.compile(optimizer=Adam(1e-3), loss='mse')\n",
    "\n",
    "# Train autoencoder\n",
    "autoencoder.fit(X_train_ae, X_train_ae, epochs=20, batch_size=128, shuffle=True, verbose=0)\n",
    "\n",
    "# Reconstruct all data and get errors\n",
    "X_reconstructed = autoencoder.predict(X_scaled)\n",
    "mse = np.mean(np.square(X_scaled - X_reconstructed), axis=1)\n",
    "\n",
    "# Set threshold for anomaly detection\n",
    "threshold = np.percentile(mse[y == 0], 99)  # top 1% of majority class errors\n",
    "y_pred_bin = (mse > threshold).astype(int)  # 1 = anomaly\n",
    "y_true_bin = (y != 0).astype(int)  # 1 = actual anomaly\n",
    "\n",
    "# Evaluation\n",
    "print(classification_report(y_true_bin, y_pred_bin))\n"
   ]
  },
  {
   "cell_type": "markdown",
   "id": "3249f25f",
   "metadata": {},
   "source": [
    "HYPERPARAMETR TUNING NEEDED\n"
   ]
  }
 ],
 "metadata": {
  "kernelspec": {
   "display_name": "Python 3",
   "language": "python",
   "name": "python3"
  },
  "language_info": {
   "codemirror_mode": {
    "name": "ipython",
    "version": 3
   },
   "file_extension": ".py",
   "mimetype": "text/x-python",
   "name": "python",
   "nbconvert_exporter": "python",
   "pygments_lexer": "ipython3",
   "version": "3.12.3"
  }
 },
 "nbformat": 4,
 "nbformat_minor": 5
}
