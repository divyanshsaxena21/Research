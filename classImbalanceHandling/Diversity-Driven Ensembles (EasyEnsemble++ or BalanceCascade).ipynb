{
 "cells": [
  {
   "cell_type": "code",
   "execution_count": null,
   "id": "71cb88bc",
   "metadata": {},
   "outputs": [],
   "source": [
    "!pip install imbalanced-learn\n"
   ]
  },
  {
   "cell_type": "code",
   "execution_count": 1,
   "id": "570a3a13",
   "metadata": {},
   "outputs": [
    {
     "name": "stdout",
     "output_type": "stream",
     "text": [
      "              precision    recall  f1-score   support\n",
      "\n",
      "           0       1.00      0.92      0.96     67005\n",
      "           1       0.76      1.00      0.86       461\n",
      "           2       1.00      1.00      1.00     11189\n",
      "           3       0.58      0.99      0.73      6870\n",
      "\n",
      "    accuracy                           0.94     85525\n",
      "   macro avg       0.83      0.98      0.89     85525\n",
      "weighted avg       0.96      0.94      0.95     85525\n",
      "\n"
     ]
    }
   ],
   "source": [
    "import pandas as pd\n",
    "from imblearn.ensemble import EasyEnsembleClassifier\n",
    "from sklearn.model_selection import train_test_split\n",
    "from sklearn.metrics import classification_report\n",
    "\n",
    "# Load data\n",
    "df = pd.read_csv(\"dataset.csv\")\n",
    "X = df.drop(columns=[\"Unnamed: 0\", \"label\"])\n",
    "y = df[\"label\"]\n",
    "\n",
    "# Train-test split\n",
    "X_train, X_test, y_train, y_test = train_test_split(X, y, test_size=0.2, random_state=42)\n",
    "\n",
    "# Use EasyEnsembleClassifier (default: AdaBoost + decision trees)\n",
    "ensemble = EasyEnsembleClassifier(n_estimators=10, random_state=42)\n",
    "ensemble.fit(X_train, y_train)\n",
    "\n",
    "# Predictions\n",
    "y_pred = ensemble.predict(X_test)\n",
    "\n",
    "# Evaluation\n",
    "print(classification_report(y_test, y_pred))\n"
   ]
  }
 ],
 "metadata": {
  "kernelspec": {
   "display_name": "Python 3",
   "language": "python",
   "name": "python3"
  },
  "language_info": {
   "codemirror_mode": {
    "name": "ipython",
    "version": 3
   },
   "file_extension": ".py",
   "mimetype": "text/x-python",
   "name": "python",
   "nbconvert_exporter": "python",
   "pygments_lexer": "ipython3",
   "version": "3.12.3"
  }
 },
 "nbformat": 4,
 "nbformat_minor": 5
}
