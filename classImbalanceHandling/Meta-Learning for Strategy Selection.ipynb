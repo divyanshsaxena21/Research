{
 "cells": [
  {
   "cell_type": "code",
   "execution_count": 1,
   "id": "ac28aa5c",
   "metadata": {},
   "outputs": [
    {
     "name": "stdout",
     "output_type": "stream",
     "text": [
      "              precision    recall  f1-score   support\n",
      "\n",
      "           0       0.99      0.99      0.99     67005\n",
      "           1       0.99      1.00      1.00       461\n",
      "           2       1.00      1.00      1.00     11189\n",
      "           3       0.90      0.92      0.91      6870\n",
      "\n",
      "    accuracy                           0.99     85525\n",
      "   macro avg       0.97      0.98      0.97     85525\n",
      "weighted avg       0.99      0.99      0.99     85525\n",
      "\n"
     ]
    }
   ],
   "source": [
    "import pandas as pd\n",
    "from sklearn.model_selection import train_test_split\n",
    "from sklearn.ensemble import RandomForestClassifier\n",
    "from sklearn.metrics import classification_report\n",
    "from imblearn.over_sampling import SMOTE, RandomOverSampler\n",
    "\n",
    "# Load data\n",
    "df = pd.read_csv(\"dataset.csv\")\n",
    "X = df.drop(columns=[\"Unnamed: 0\", \"label\"])\n",
    "y = df[\"label\"]\n",
    "\n",
    "# Train-test split\n",
    "X_train, X_test, y_train, y_test = train_test_split(X, y, test_size=0.2, random_state=42)\n",
    "\n",
    "# Meta-learning to choose oversampling strategy\n",
    "# For example, using a decision-making criterion like class distribution\n",
    "\n",
    "if y_train.value_counts()[1] < 10:\n",
    "    oversampler = SMOTE()\n",
    "else:\n",
    "    oversampler = RandomOverSampler()\n",
    "\n",
    "# Apply oversampling\n",
    "X_res, y_res = oversampler.fit_resample(X_train, y_train)\n",
    "\n",
    "# Train Random Forest Classifier\n",
    "rf = RandomForestClassifier()\n",
    "rf.fit(X_res, y_res)\n",
    "\n",
    "# Predictions\n",
    "y_pred = rf.predict(X_test)\n",
    "\n",
    "# Evaluation\n",
    "print(classification_report(y_test, y_pred))\n"
   ]
  }
 ],
 "metadata": {
  "kernelspec": {
   "display_name": "Python 3",
   "language": "python",
   "name": "python3"
  },
  "language_info": {
   "codemirror_mode": {
    "name": "ipython",
    "version": 3
   },
   "file_extension": ".py",
   "mimetype": "text/x-python",
   "name": "python",
   "nbconvert_exporter": "python",
   "pygments_lexer": "ipython3",
   "version": "3.12.3"
  }
 },
 "nbformat": 4,
 "nbformat_minor": 5
}
