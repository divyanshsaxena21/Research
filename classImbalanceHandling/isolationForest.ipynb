{
 "cells": [
  {
   "cell_type": "code",
   "execution_count": 1,
   "id": "7aec0357",
   "metadata": {},
   "outputs": [
    {
     "name": "stdout",
     "output_type": "stream",
     "text": [
      "              precision    recall  f1-score   support\n",
      "\n",
      "           0       0.78      0.99      0.88    335847\n",
      "           1       0.07      0.00      0.01     91778\n",
      "\n",
      "    accuracy                           0.78    427625\n",
      "   macro avg       0.43      0.50      0.44    427625\n",
      "weighted avg       0.63      0.78      0.69    427625\n",
      "\n"
     ]
    }
   ],
   "source": [
    "import pandas as pd\n",
    "from sklearn.preprocessing import StandardScaler\n",
    "from sklearn.model_selection import train_test_split\n",
    "from sklearn.ensemble import IsolationForest\n",
    "from sklearn.metrics import classification_report\n",
    "\n",
    "# Load dataset\n",
    "df = pd.read_csv(\"dataset.csv\")\n",
    "\n",
    "# Separate features and target\n",
    "X = df.drop(columns=[\"Unnamed: 0\", \"label\"])\n",
    "y = df[\"label\"]\n",
    "\n",
    "# Normalize\n",
    "scaler = StandardScaler()\n",
    "X_scaled = scaler.fit_transform(X)\n",
    "\n",
    "# Use majority class (0) as 'normal'\n",
    "X_majority = X_scaled[y == 0]\n",
    "X_rest = X_scaled\n",
    "y_true = y\n",
    "\n",
    "# Train Isolation Forest on majority class only\n",
    "iso_forest = IsolationForest(contamination=0.01, random_state=42)\n",
    "iso_forest.fit(X_majority)\n",
    "\n",
    "# Predict outliers for all data\n",
    "y_pred_outlier = iso_forest.predict(X_rest)  # -1 for outliers, 1 for inliers\n",
    "\n",
    "# Map to label-like prediction: assume -1 (outlier) = minority, 1 (inlier) = majority\n",
    "y_pred_label = [0 if p == 1 else 1 for p in y_pred_outlier]\n",
    "\n",
    "# Evaluate how well it detects non-majority as \"outliers\"\n",
    "y_binary_true = [0 if label == 0 else 1 for label in y_true]\n",
    "print(classification_report(y_binary_true, y_pred_label))\n"
   ]
  }
 ],
 "metadata": {
  "kernelspec": {
   "display_name": "Python 3",
   "language": "python",
   "name": "python3"
  },
  "language_info": {
   "codemirror_mode": {
    "name": "ipython",
    "version": 3
   },
   "file_extension": ".py",
   "mimetype": "text/x-python",
   "name": "python",
   "nbconvert_exporter": "python",
   "pygments_lexer": "ipython3",
   "version": "3.12.3"
  }
 },
 "nbformat": 4,
 "nbformat_minor": 5
}
