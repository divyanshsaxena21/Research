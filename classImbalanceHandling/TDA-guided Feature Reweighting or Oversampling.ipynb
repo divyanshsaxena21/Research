{
 "cells": [
  {
   "cell_type": "code",
   "execution_count": 2,
   "id": "068a32ab",
   "metadata": {},
   "outputs": [
    {
     "name": "stdout",
     "output_type": "stream",
     "text": [
      "              precision    recall  f1-score   support\n",
      "\n",
      "           0       0.99      0.99      0.99     67005\n",
      "           1       0.95      0.64      0.76       461\n",
      "           2       1.00      1.00      1.00     11189\n",
      "           3       0.94      0.88      0.91      6870\n",
      "\n",
      "    accuracy                           0.98     85525\n",
      "   macro avg       0.97      0.88      0.91     85525\n",
      "weighted avg       0.98      0.98      0.98     85525\n",
      "\n"
     ]
    }
   ],
   "source": [
    "import pandas as pd\n",
    "import numpy as np\n",
    "from sklearn.decomposition import PCA\n",
    "from sklearn.model_selection import train_test_split\n",
    "from sklearn.ensemble import RandomForestClassifier\n",
    "from sklearn.metrics import classification_report\n",
    "from ripser import ripser\n",
    "import random\n",
    "\n",
    "# Load data\n",
    "df = pd.read_csv(\"dataset.csv\")\n",
    "X = df.drop(columns=[\"Unnamed: 0\", \"label\"])\n",
    "y = df[\"label\"]\n",
    "\n",
    "# Reduce dimensionality before TDA\n",
    "pca = PCA(n_components=10)  # Reduce to 10D\n",
    "X_reduced = pca.fit_transform(X)\n",
    "\n",
    "# Sample subset to avoid memory error\n",
    "sample_indices = random.sample(range(len(X_reduced)), 500)  # Sample 500 points\n",
    "X_subset = X_reduced[sample_indices]\n",
    "\n",
    "# Apply TDA (persistent homology)\n",
    "diagrams = ripser(X_subset)['dgms']\n",
    "\n",
    "# You would normally analyze persistence diagrams here to reweight features\n",
    "# Placeholder: Assume we give more weight to top 3 PCA components based on domain insight\n",
    "X_reweighted = X_reduced * np.array([2, 1.5, 1.2] + [1]*(X_reduced.shape[1] - 3))\n",
    "\n",
    "# Train-test split\n",
    "X_train, X_test, y_train, y_test = train_test_split(X_reweighted, y, test_size=0.2, random_state=42)\n",
    "\n",
    "# Train classifier\n",
    "rf = RandomForestClassifier()\n",
    "rf.fit(X_train, y_train)\n",
    "\n",
    "# Predictions\n",
    "y_pred = rf.predict(X_test)\n",
    "\n",
    "# Evaluation\n",
    "print(classification_report(y_test, y_pred))\n"
   ]
  }
 ],
 "metadata": {
  "kernelspec": {
   "display_name": "Python 3",
   "language": "python",
   "name": "python3"
  },
  "language_info": {
   "codemirror_mode": {
    "name": "ipython",
    "version": 3
   },
   "file_extension": ".py",
   "mimetype": "text/x-python",
   "name": "python",
   "nbconvert_exporter": "python",
   "pygments_lexer": "ipython3",
   "version": "3.12.3"
  }
 },
 "nbformat": 4,
 "nbformat_minor": 5
}
