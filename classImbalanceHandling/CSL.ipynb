{
 "cells": [
  {
   "cell_type": "markdown",
   "id": "9a6c6ef1",
   "metadata": {},
   "source": [
    "Cost-Sensitive Learning (CSL), also known as class weighting, is a powerful approach to handle the inherent class imbalance problem in blockchain anomaly detection, where fraudulent or anomalous transactions are extremely rare compared to normal ones.\n"
   ]
  },
  {
   "cell_type": "markdown",
   "id": "e1f6f34f",
   "metadata": {},
   "source": [
    "What is Cost-Sensitive Learning in Blockchain Anomaly Detection?\n",
    "\n",
    "Problem Context:\n",
    "Blockchain datasets are highly imbalanced - fraudulent/anomalous transactions form a tiny minority of the data. Traditional machine learning models tend to be biased toward the majority class (normal transactions), leading to poor detection of rare frauds.\n",
    "\n",
    "Core Idea of CSL:\n",
    "Instead of treating all classification errors equally, CSL assigns different misclassification costs to different types of errors:\n",
    "1. False Negatives (missing fraud) are assigned a high cost because undetected fraud leads to financial loss and security risks.\n",
    "2. False Positives (flagging normal as fraud) have a lower cost, though they can cause customer inconvenience.\n",
    "The model training objective is modified to minimize the total misclassification cost, not just the error count.\n",
    "\n",
    "How CSL Helps:\n",
    "By incorporating these costs into the learning process, CSL forces the model to pay more attention to detecting the minority class (fraud/anomaly), improving recall and reducing costly misses."
   ]
  },
  {
   "cell_type": "markdown",
   "id": "7c274cf6",
   "metadata": {},
   "source": [
    "How Cost-Sensitive Learning Works on Blockchain Transactions"
   ]
  },
  {
   "cell_type": "markdown",
   "id": "eda9ca42",
   "metadata": {},
   "source": [
    "1. Assigning Class Weights or Cost Matrix:\n",
    "\n",
    "A cost matrix is defined, for example:          \n",
    "Actual Fraud:\tPredicted Fraud\t(0)\t                      Predicted Normal(High Cost (e.g., 100))\n",
    "Actual Normal:\tPredicted Fraud\t(Low Cost (e.g., 1)\t)     Predicted Normal(0)\n",
    "\n",
    "\n",
    "This matrix reflects that missing a fraud (false negative) is much more costly than a false alarm."
   ]
  },
  {
   "cell_type": "markdown",
   "id": "80c7a527",
   "metadata": {},
   "source": [
    "2. Incorporating Costs into Model Training:\n",
    "    - Many machine learning algorithms (e.g., logistic regression, decision trees, random forests, neural networks) allow specifying class weights or custom loss functions that incorporate these costs.\n",
    "\n",
    "    - For example, in scikit-learn, class_weight parameter can be set to {fraud: high_weight, normal: low_weight}.\n",
    "\n",
    "Alternatively, custom cost-sensitive loss functions can be designed to penalize false negatives more heavily."
   ]
  },
  {
   "cell_type": "markdown",
   "id": "772b0ddc",
   "metadata": {},
   "source": [
    "3. Optimizing Class Weights Automatically:\n",
    "\n",
    "    - Advanced approaches use optimization techniques like genetic algorithms to find the best class weights that maximize detection accuracy while minimizing total cost (as in ARCADE framework).\n",
    "\n",
    "    - This avoids manually guessing cost values and adapts to the data distribution and fraud patterns dynamically."
   ]
  },
  {
   "cell_type": "markdown",
   "id": "f8e7b540",
   "metadata": {},
   "source": [
    "4. Training on Imbalanced Blockchain Data:\n",
    "    - The model learns to prioritize features and patterns that distinguish rare fraudulent transactions, such as unusual transaction size, abnormal gas price, irregular timing, or suspicious address behavior.\n",
    "\n",
    "    - CSL helps prevent the model from being overwhelmed by the majority normal transactions."
   ]
  },
  {
   "cell_type": "markdown",
   "id": "f897ecab",
   "metadata": {},
   "source": [
    "5. Evaluation with Cost-Aware Metrics:\n",
    "\n",
    "    - Instead of accuracy, metrics like cost-weighted error, cost curves, or cost-sensitive cross-validation are used to evaluate model performance.\n",
    "\n",
    "    - This ensures the model is truly effective at reducing costly fraud misses."
   ]
  },
  {
   "cell_type": "markdown",
   "id": "4d4a5ca4",
   "metadata": {},
   "source": [
    "Benefits of Cost-Sensitive Learning for Blockchain Fraud Detection\n",
    "\n",
    "- Improved Fraud Detection:\n",
    "    Models become more sensitive to rare fraud patterns, increasing recall without excessively increasing false positives.\n",
    "\n",
    "- Adaptability:\n",
    "    Cost-sensitive frameworks can adapt to changing fraud costs over time (e.g., higher penalties for high-value fraud).\n",
    "\n",
    "- No Data Manipulation Needed:\n",
    "    Unlike oversampling or undersampling, CSL works at the algorithm level without altering the original blockchain transaction data distribution, preserving data integrity.\n",
    "\n",
    "- Integration with Expert Knowledge:\n",
    "    Costs can be tailored based on domain knowledge, regulatory requirements, or business impact analysis."
   ]
  },
  {
   "cell_type": "markdown",
   "id": "4a1b3584",
   "metadata": {},
   "source": [
    "Research Insights Supporting CSL in Blockchain\n",
    "-    The ARCADE framework uses a genetic algorithm to optimize class weights for adversarially robust anomaly detection in blockchain, improving minority class detection accuracy.\n",
    "\n",
    "- Studies show CSL methods outperform standard classifiers on imbalanced blockchain datasets without synthetic oversampling.\n",
    "\n",
    "- CSL effectively balances the trade-off between false positives and false negatives, critical in blockchain where missed fraud is costly but false alarms disrupt users.\n"
   ]
  },
  {
   "cell_type": "markdown",
   "id": "6bc564c3",
   "metadata": {},
   "source": [
    "Aspect\t                    Description\n",
    "\n",
    "Problem\t                    Blockchain fraud is rare but costly; standard models biased towards normal transactions\n",
    "CSL Approach\t            Assign higher misclassification costs to fraud class; optimize model to minimize total cost\n",
    "Implementation\t            Use class weights or cost matrices in model training; optimize weights if possible\n",
    "Benefits\t                Better detection of rare frauds, no data resampling needed, adaptable to changing costs\n",
    "Blockchain Application\t    Detects anomalies like double spending, mixer usage, phishing, abnormal transaction patterns\n",
    "\n",
    "\n",
    "Cost-Sensitive Learning is a crucial technique in blockchain anomaly detection that tackles class imbalance by explicitly incorporating the asymmetric costs of errors into model training, enabling more effective and practical fraud detection in decentralized and complex blockchain networks.\n"
   ]
  },
  {
   "cell_type": "code",
   "execution_count": 1,
   "id": "7f8ddf3b",
   "metadata": {},
   "outputs": [
    {
     "name": "stdout",
     "output_type": "stream",
     "text": [
      "              precision    recall  f1-score   support\n",
      "\n",
      "           0       0.99      0.99      0.99    100755\n",
      "           1       0.99      0.99      0.99       676\n",
      "           2       1.00      1.00      1.00     16617\n",
      "           3       0.92      0.89      0.91     10240\n",
      "\n",
      "    accuracy                           0.99    128288\n",
      "   macro avg       0.97      0.97      0.97    128288\n",
      "weighted avg       0.98      0.99      0.98    128288\n",
      "\n"
     ]
    }
   ],
   "source": [
    "import pandas as pd\n",
    "from sklearn.model_selection import train_test_split\n",
    "from sklearn.preprocessing import StandardScaler\n",
    "from sklearn.ensemble import RandomForestClassifier\n",
    "from sklearn.metrics import classification_report\n",
    "\n",
    "# Load dataset\n",
    "df = pd.read_csv(\"dataset.csv\")\n",
    "\n",
    "# Prepare features and target\n",
    "X = df.drop(columns=[\"Unnamed: 0\", \"label\"])\n",
    "y = df[\"label\"]\n",
    "\n",
    "# Normalize\n",
    "scaler = StandardScaler()\n",
    "X_scaled = scaler.fit_transform(X)\n",
    "\n",
    "# Split data\n",
    "X_train, X_test, y_train, y_test = train_test_split(X_scaled, y, stratify=y, test_size=0.3, random_state=42)\n",
    "\n",
    "# Train classifier with automatic class weights\n",
    "clf = RandomForestClassifier(class_weight=\"balanced\", random_state=42)\n",
    "clf.fit(X_train, y_train)\n",
    "\n",
    "# Predict and evaluate\n",
    "y_pred = clf.predict(X_test)\n",
    "print(classification_report(y_test, y_pred))\n"
   ]
  }
 ],
 "metadata": {
  "kernelspec": {
   "display_name": "Python 3",
   "language": "python",
   "name": "python3"
  },
  "language_info": {
   "codemirror_mode": {
    "name": "ipython",
    "version": 3
   },
   "file_extension": ".py",
   "mimetype": "text/x-python",
   "name": "python",
   "nbconvert_exporter": "python",
   "pygments_lexer": "ipython3",
   "version": "3.12.3"
  }
 },
 "nbformat": 4,
 "nbformat_minor": 5
}
