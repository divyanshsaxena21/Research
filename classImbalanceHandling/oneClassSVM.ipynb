{
 "cells": [
  {
   "cell_type": "code",
   "execution_count": 1,
   "id": "103b9f34",
   "metadata": {},
   "outputs": [
    {
     "name": "stdout",
     "output_type": "stream",
     "text": [
      "              precision    recall  f1-score   support\n",
      "\n",
      "           0       0.91      0.99      0.95    335847\n",
      "           1       0.95      0.64      0.76     91778\n",
      "\n",
      "    accuracy                           0.91    427625\n",
      "   macro avg       0.93      0.81      0.86    427625\n",
      "weighted avg       0.92      0.91      0.91    427625\n",
      "\n"
     ]
    }
   ],
   "source": [
    "import pandas as pd\n",
    "from sklearn.svm import OneClassSVM\n",
    "from sklearn.preprocessing import StandardScaler\n",
    "from sklearn.model_selection import train_test_split\n",
    "from sklearn.metrics import classification_report\n",
    "\n",
    "# Load data\n",
    "df = pd.read_csv(\"dataset.csv\")\n",
    "X = df.drop(columns=[\"Unnamed: 0\", \"label\"])\n",
    "y = df[\"label\"]\n",
    "\n",
    "# Normalize\n",
    "scaler = StandardScaler()\n",
    "X_scaled = scaler.fit_transform(X)\n",
    "\n",
    "# Separate majority class\n",
    "X_majority = X_scaled[y == 0]\n",
    "X_all = X_scaled\n",
    "y_all = y\n",
    "\n",
    "# Train One-Class SVM on class 0\n",
    "oc_svm = OneClassSVM(kernel='rbf', gamma='auto', nu=0.01)\n",
    "oc_svm.fit(X_majority)\n",
    "\n",
    "# Predict\n",
    "y_pred = oc_svm.predict(X_all)  # -1: outlier, 1: inlier\n",
    "y_pred_bin = [0 if p == 1 else 1 for p in y_pred]  # 0: normal, 1: anomaly\n",
    "y_true_bin = [0 if label == 0 else 1 for label in y_all]\n",
    "\n",
    "# Evaluation\n",
    "print(classification_report(y_true_bin, y_pred_bin))\n"
   ]
  },
  {
   "cell_type": "markdown",
   "id": "33a9fbab",
   "metadata": {},
   "source": []
  }
 ],
 "metadata": {
  "kernelspec": {
   "display_name": "Python 3",
   "language": "python",
   "name": "python3"
  },
  "language_info": {
   "codemirror_mode": {
    "name": "ipython",
    "version": 3
   },
   "file_extension": ".py",
   "mimetype": "text/x-python",
   "name": "python",
   "nbconvert_exporter": "python",
   "pygments_lexer": "ipython3",
   "version": "3.12.3"
  }
 },
 "nbformat": 4,
 "nbformat_minor": 5
}
