{
 "cells": [
  {
   "cell_type": "code",
   "execution_count": 1,
   "id": "74599f8e",
   "metadata": {},
   "outputs": [
    {
     "name": "stdout",
     "output_type": "stream",
     "text": [
      "              precision    recall  f1-score   support\n",
      "\n",
      "           0       0.99      0.99      0.99    100755\n",
      "           1       1.00      1.00      1.00      7438\n",
      "           2       1.00      1.00      1.00     16617\n",
      "           3       0.92      0.90      0.91     10240\n",
      "\n",
      "    accuracy                           0.99    135050\n",
      "   macro avg       0.98      0.97      0.97    135050\n",
      "weighted avg       0.99      0.99      0.99    135050\n",
      "\n"
     ]
    }
   ],
   "source": [
    "import pandas as pd\n",
    "from ctgan import CTGAN\n",
    "from sklearn.preprocessing import StandardScaler\n",
    "from sklearn.model_selection import train_test_split\n",
    "from sklearn.metrics import classification_report\n",
    "from sklearn.ensemble import RandomForestClassifier\n",
    "\n",
    "# Load data\n",
    "df = pd.read_csv(\"dataset.csv\")\n",
    "X = df.drop(columns=[\"Unnamed: 0\", \"label\"])\n",
    "y = df[\"label\"]\n",
    "\n",
    "# Combine for CTGAN\n",
    "data = X.copy()\n",
    "data[\"label\"] = y\n",
    "\n",
    "# Focus on minority class generation\n",
    "minority_class = 1\n",
    "minority_data = data[data[\"label\"] == minority_class]\n",
    "\n",
    "# Train CTGAN\n",
    "ctgan = CTGAN(epochs=100)\n",
    "ctgan.fit(minority_data, discrete_columns=[\"label\"])\n",
    "\n",
    "# Generate synthetic samples\n",
    "synthetic_data = ctgan.sample(len(minority_data) * 10)\n",
    "synthetic_data = synthetic_data[synthetic_data[\"label\"] == minority_class]\n",
    "\n",
    "# Combine synthetic with original data\n",
    "augmented_data = pd.concat([data, synthetic_data], ignore_index=True)\n",
    "\n",
    "# Train/test split\n",
    "X_aug = augmented_data.drop(columns=[\"label\"])\n",
    "y_aug = augmented_data[\"label\"]\n",
    "\n",
    "scaler = StandardScaler()\n",
    "X_aug_scaled = scaler.fit_transform(X_aug)\n",
    "\n",
    "X_train, X_test, y_train, y_test = train_test_split(X_aug_scaled, y_aug, test_size=0.3, stratify=y_aug, random_state=42)\n",
    "\n",
    "# Classifier\n",
    "clf = RandomForestClassifier(random_state=42)\n",
    "clf.fit(X_train, y_train)\n",
    "y_pred = clf.predict(X_test)\n",
    "\n",
    "# Report\n",
    "print(classification_report(y_test, y_pred))\n"
   ]
  }
 ],
 "metadata": {
  "kernelspec": {
   "display_name": "Python 3",
   "language": "python",
   "name": "python3"
  },
  "language_info": {
   "codemirror_mode": {
    "name": "ipython",
    "version": 3
   },
   "file_extension": ".py",
   "mimetype": "text/x-python",
   "name": "python",
   "nbconvert_exporter": "python",
   "pygments_lexer": "ipython3",
   "version": "3.12.3"
  }
 },
 "nbformat": 4,
 "nbformat_minor": 5
}
