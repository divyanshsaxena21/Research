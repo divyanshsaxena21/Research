{
 "cells": [
  {
   "cell_type": "code",
   "execution_count": 8,
   "id": "1f3b75b0",
   "metadata": {},
   "outputs": [
    {
     "name": "stdout",
     "output_type": "stream",
     "text": [
      "              precision    recall  f1-score   support\n",
      "\n",
      "           0       0.99      0.99      0.99     67211\n",
      "           1       0.99      1.00      1.00       885\n",
      "           2       1.00      1.00      1.00     10976\n",
      "           3       0.91      0.89      0.90      6904\n",
      "\n",
      "    accuracy                           0.98     85976\n",
      "   macro avg       0.97      0.97      0.97     85976\n",
      "weighted avg       0.98      0.98      0.98     85976\n",
      "\n"
     ]
    }
   ],
   "source": [
    "import pandas as pd\n",
    "from ctgan import CTGAN\n",
    "from sklearn.model_selection import train_test_split\n",
    "from sklearn.ensemble import RandomForestClassifier\n",
    "from sklearn.metrics import classification_report\n",
    "\n",
    "# Load data\n",
    "df = pd.read_csv(\"dataset.csv\")\n",
    "df = df.drop(columns=[\"Unnamed: 0\"])\n",
    "\n",
    "# Split features and label\n",
    "X = df.drop(columns=[\"label\"])\n",
    "y = df[\"label\"]\n",
    "\n",
    "# Combine for CTGAN\n",
    "df_full = X.copy()\n",
    "df_full[\"label\"] = y\n",
    "\n",
    "# Separate majority and minority class\n",
    "minority_class = 1\n",
    "df_minority = df_full[df_full[\"label\"] == minority_class]\n",
    "df_majority = df_full[df_full[\"label\"] != minority_class]\n",
    "\n",
    "# Train CTGAN on minority class\n",
    "ctgan = CTGAN(epochs=300)\n",
    "ctgan.fit(df_minority, discrete_columns=[\"label\"])\n",
    "\n",
    "# Generate synthetic samples\n",
    "synthetic_data = ctgan.sample(len(df_minority))\n",
    "synthetic_data = synthetic_data[synthetic_data[\"label\"] == minority_class]\n",
    "\n",
    "# Combine synthetic and real data\n",
    "df_balanced = pd.concat([df_majority, df_minority, synthetic_data], ignore_index=True)\n",
    "\n",
    "# Split into train-test\n",
    "X_bal = df_balanced.drop(columns=[\"label\"])\n",
    "y_bal = df_balanced[\"label\"]\n",
    "X_train, X_test, y_train, y_test = train_test_split(X_bal, y_bal, test_size=0.2, random_state=42)\n",
    "\n",
    "# Train classifier\n",
    "rf = RandomForestClassifier()\n",
    "rf.fit(X_train, y_train)\n",
    "\n",
    "# Predictions\n",
    "y_pred = rf.predict(X_test)\n",
    "\n",
    "# Evaluation\n",
    "print(classification_report(y_test, y_pred))\n"
   ]
  }
 ],
 "metadata": {
  "kernelspec": {
   "display_name": "Python 3",
   "language": "python",
   "name": "python3"
  },
  "language_info": {
   "codemirror_mode": {
    "name": "ipython",
    "version": 3
   },
   "file_extension": ".py",
   "mimetype": "text/x-python",
   "name": "python",
   "nbconvert_exporter": "python",
   "pygments_lexer": "ipython3",
   "version": "3.12.3"
  }
 },
 "nbformat": 4,
 "nbformat_minor": 5
}
