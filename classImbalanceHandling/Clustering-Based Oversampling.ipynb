{
 "cells": [
  {
   "cell_type": "code",
   "execution_count": null,
   "id": "deb9c699",
   "metadata": {},
   "outputs": [
    {
     "name": "stdout",
     "output_type": "stream",
     "text": [
      "Class distribution before resampling:\n",
      " label\n",
      "0    335847\n",
      "2     55390\n",
      "3     34134\n",
      "1      2254\n",
      "Name: count, dtype: int64\n",
      "PCA reduced features from 23 to 11\n",
      "Class distribution after resampling:\n",
      " label\n",
      "3    268678\n",
      "0    268678\n",
      "2    268678\n",
      "1    268678\n",
      "Name: count, dtype: int64\n"
     ]
    }
   ],
   "source": [
    "import pandas as pd\n",
    "from sklearn.model_selection import train_test_split\n",
    "from sklearn.ensemble import RandomForestClassifier\n",
    "from sklearn.metrics import classification_report\n",
    "from sklearn.preprocessing import StandardScaler\n",
    "from sklearn.decomposition import PCA\n",
    "from imblearn.over_sampling import SMOTE\n",
    "\n",
    "# Load data\n",
    "df = pd.read_csv(\"dataset.csv\")\n",
    "\n",
    "# Drop unwanted columns\n",
    "X = df.drop(columns=[\"Unnamed: 0\", \"label\"])\n",
    "y = df[\"label\"]\n",
    "\n",
    "# Show class distribution before resampling\n",
    "print(\"Class distribution before resampling:\\n\", y.value_counts())\n",
    "\n",
    "# Standardize features\n",
    "scaler = StandardScaler()\n",
    "X_scaled = scaler.fit_transform(X)\n",
    "\n",
    "# Apply PCA to reduce dimensionality\n",
    "pca = PCA(n_components=0.95, random_state=42)  # Retain 95% variance\n",
    "X_pca = pca.fit_transform(X_scaled)\n",
    "print(f\"PCA reduced features from {X.shape[1]} to {X_pca.shape[1]}\")\n",
    "\n",
    "# Train-test split\n",
    "X_train, X_test, y_train, y_test = train_test_split(\n",
    "    X_pca, y, test_size=0.2, random_state=42, stratify=y\n",
    ")\n",
    "\n",
    "# Apply SMOTE\n",
    "smote = SMOTE(random_state=42, k_neighbors=3)\n",
    "X_res, y_res = smote.fit_resample(X_train, y_train)\n",
    "\n",
    "# Show class distribution after resampling\n",
    "print(\"Class distribution after resampling:\\n\", pd.Series(y_res).value_counts())\n",
    "\n",
    "# Train Random Forest Classifier\n",
    "rf = RandomForestClassifier(random_state=42)\n",
    "rf.fit(X_res, y_res)\n",
    "\n",
    "# Predictions\n",
    "y_pred = rf.predict(X_test)\n",
    "\n",
    "# Evaluation\n",
    "print(\"Classification Report:\\n\", classification_report(y_test, y_pred))\n"
   ]
  }
 ],
 "metadata": {
  "kernelspec": {
   "display_name": "Python 3",
   "language": "python",
   "name": "python3"
  },
  "language_info": {
   "codemirror_mode": {
    "name": "ipython",
    "version": 3
   },
   "file_extension": ".py",
   "mimetype": "text/x-python",
   "name": "python",
   "nbconvert_exporter": "python",
   "pygments_lexer": "ipython3",
   "version": "3.12.3"
  }
 },
 "nbformat": 4,
 "nbformat_minor": 5
}
