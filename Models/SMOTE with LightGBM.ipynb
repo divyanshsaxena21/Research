{
 "cells": [
  {
   "cell_type": "code",
   "execution_count": 4,
   "metadata": {},
   "outputs": [
    {
     "name": "stdout",
     "output_type": "stream",
     "text": [
      "[LightGBM] [Info] Auto-choosing col-wise multi-threading, the overhead of testing was 0.027446 seconds.\n",
      "You can set `force_col_wise=true` to remove the overhead.\n",
      "[LightGBM] [Info] Total Bins 4838\n",
      "[LightGBM] [Info] Number of data points in the train set: 342860, number of used features: 24\n",
      "[LightGBM] [Info] Start training from score -1.609438\n",
      "[LightGBM] [Info] Start training from score -1.609438\n",
      "[LightGBM] [Info] Start training from score -1.609438\n",
      "[LightGBM] [Info] Start training from score -1.609438\n",
      "[LightGBM] [Info] Start training from score -1.609438\n"
     ]
    },
    {
     "name": "stderr",
     "output_type": "stream",
     "text": [
      "C:\\Users\\ykuma\\AppData\\Roaming\\Python\\Python312\\site-packages\\xgboost\\training.py:183: UserWarning: [20:13:57] WARNING: C:\\actions-runner\\_work\\xgboost\\xgboost\\src\\learner.cc:738: \n",
      "Parameters: { \"use_label_encoder\" } are not used.\n",
      "\n",
      "  bst.update(dtrain, iteration=i, fobj=obj)\n"
     ]
    },
    {
     "name": "stdout",
     "output_type": "stream",
     "text": [
      "[LightGBM] [Info] Auto-choosing col-wise multi-threading, the overhead of testing was 0.025036 seconds.\n",
      "You can set `force_col_wise=true` to remove the overhead.\n",
      "[LightGBM] [Info] Total Bins 4841\n",
      "[LightGBM] [Info] Number of data points in the train set: 228573, number of used features: 24\n",
      "[LightGBM] [Info] Start training from score -1.609451\n",
      "[LightGBM] [Info] Start training from score -1.609451\n",
      "[LightGBM] [Info] Start training from score -1.609429\n",
      "[LightGBM] [Info] Start training from score -1.609429\n",
      "[LightGBM] [Info] Start training from score -1.609429\n",
      "[LightGBM] [Info] Auto-choosing col-wise multi-threading, the overhead of testing was 0.022080 seconds.\n",
      "You can set `force_col_wise=true` to remove the overhead.\n",
      "[LightGBM] [Info] Total Bins 4837\n",
      "[LightGBM] [Info] Number of data points in the train set: 228573, number of used features: 24\n",
      "[LightGBM] [Info] Start training from score -1.609429\n",
      "[LightGBM] [Info] Start training from score -1.609429\n",
      "[LightGBM] [Info] Start training from score -1.609451\n",
      "[LightGBM] [Info] Start training from score -1.609429\n",
      "[LightGBM] [Info] Start training from score -1.609451\n",
      "[LightGBM] [Info] Auto-choosing col-wise multi-threading, the overhead of testing was 0.020138 seconds.\n",
      "You can set `force_col_wise=true` to remove the overhead.\n",
      "[LightGBM] [Info] Total Bins 4844\n",
      "[LightGBM] [Info] Number of data points in the train set: 228574, number of used features: 24\n",
      "[LightGBM] [Info] Start training from score -1.609434\n",
      "[LightGBM] [Info] Start training from score -1.609434\n",
      "[LightGBM] [Info] Start training from score -1.609434\n",
      "[LightGBM] [Info] Start training from score -1.609455\n",
      "[LightGBM] [Info] Start training from score -1.609434\n"
     ]
    },
    {
     "name": "stderr",
     "output_type": "stream",
     "text": [
      "C:\\Users\\ykuma\\AppData\\Roaming\\Python\\Python312\\site-packages\\xgboost\\training.py:183: UserWarning: [20:21:31] WARNING: C:\\actions-runner\\_work\\xgboost\\xgboost\\src\\learner.cc:738: \n",
      "Parameters: { \"use_label_encoder\" } are not used.\n",
      "\n",
      "  bst.update(dtrain, iteration=i, fobj=obj)\n",
      "C:\\Users\\ykuma\\AppData\\Roaming\\Python\\Python312\\site-packages\\xgboost\\training.py:183: UserWarning: [20:21:38] WARNING: C:\\actions-runner\\_work\\xgboost\\xgboost\\src\\learner.cc:738: \n",
      "Parameters: { \"use_label_encoder\" } are not used.\n",
      "\n",
      "  bst.update(dtrain, iteration=i, fobj=obj)\n",
      "C:\\Users\\ykuma\\AppData\\Roaming\\Python\\Python312\\site-packages\\xgboost\\training.py:183: UserWarning: [20:21:49] WARNING: C:\\actions-runner\\_work\\xgboost\\xgboost\\src\\learner.cc:738: \n",
      "Parameters: { \"use_label_encoder\" } are not used.\n",
      "\n",
      "  bst.update(dtrain, iteration=i, fobj=obj)\n"
     ]
    },
    {
     "name": "stdout",
     "output_type": "stream",
     "text": [
      "🔥 Stacked Model Accuracy: 0.9122\n",
      "\n",
      "💌 Classification Report:\n",
      "\n",
      "              precision    recall  f1-score   support\n",
      "\n",
      "           0       0.88      0.91      0.90     16953\n",
      "           1       0.87      0.88      0.88     17064\n",
      "           2       0.91      0.88      0.89     17006\n",
      "           3       0.96      0.92      0.94     17392\n",
      "           4       0.94      0.96      0.95     17110\n",
      "\n",
      "    accuracy                           0.91     85525\n",
      "   macro avg       0.91      0.91      0.91     85525\n",
      "weighted avg       0.91      0.91      0.91     85525\n",
      "\n"
     ]
    }
   ],
   "source": [
    "import pandas as pd\n",
    "import numpy as np\n",
    "from sklearn.model_selection import train_test_split\n",
    "from sklearn.ensemble import StackingClassifier, GradientBoostingClassifier, RandomForestClassifier\n",
    "from sklearn.metrics import accuracy_score, classification_report\n",
    "import lightgbm as lgb\n",
    "from xgboost import XGBClassifier\n",
    "from imblearn.over_sampling import SMOTE  # Import SMOTE\n",
    "\n",
    "# Load dataset\n",
    "df = pd.read_csv(\"dataset.csv\")\n",
    "\n",
    "# Drop rows with NaN in the target column (last column)\n",
    "df = df.dropna(subset=[df.columns[-1]])\n",
    "\n",
    "# Features and target\n",
    "X = df.iloc[:, :-1]\n",
    "y = df.iloc[:, -1]\n",
    "\n",
    "# 💖 Fixing class imbalance using quantile-based binning\n",
    "num_bins = 5\n",
    "y = pd.qcut(y, q=num_bins, labels=range(num_bins), duplicates='drop')\n",
    "\n",
    "# 🧪 Train-test split\n",
    "X_train, X_test, y_train, y_test = train_test_split(X, y, test_size=0.2, random_state=42)\n",
    "\n",
    "# 🚿 Clean column names (remove special characters)\n",
    "X_train.columns = X_train.columns.str.replace('[^a-zA-Z0-9_]', '_', regex=True)\n",
    "X_test.columns = X_test.columns.str.replace('[^a-zA-Z0-9_]', '_', regex=True)\n",
    "\n",
    "# 🌟 Handle class imbalance using SMOTE\n",
    "smote = SMOTE(random_state=42)\n",
    "X_train_smote, y_train_smote = smote.fit_resample(X_train, y_train)\n",
    "\n",
    "# 🌟 Base models\n",
    "base_models = [\n",
    "    (\"lightgbm\", lgb.LGBMClassifier(n_estimators=100, learning_rate=0.1, random_state=42)),\n",
    "    (\"random_forest\", RandomForestClassifier(n_estimators=100, random_state=42)),\n",
    "    (\"xgboost\", XGBClassifier(n_estimators=100, learning_rate=0.1, use_label_encoder=False, eval_metric='mlogloss', random_state=42))\n",
    "]\n",
    "\n",
    "# Simpler meta model\n",
    "meta_model = GradientBoostingClassifier(n_estimators=50, learning_rate=0.1, random_state=42)\n",
    "\n",
    "# Faster stacking model\n",
    "stacked_model = StackingClassifier(estimators=base_models, final_estimator=meta_model, cv=3)\n",
    "\n",
    "# 🔥 Train the stacked model on the SMOTE resampled data\n",
    "stacked_model.fit(X_train_smote, y_train_smote)\n",
    "\n",
    "# 💫 Make predictions\n",
    "stacked_pred = stacked_model.predict(X_test)\n",
    "\n",
    "# 🎯 Evaluation\n",
    "stacked_acc = accuracy_score(y_test, stacked_pred)\n",
    "print(f\"🔥 Stacked Model Accuracy: {stacked_acc:.4f}\")\n",
    "print(\"\\n💌 Classification Report:\\n\")\n",
    "print(classification_report(y_test, stacked_pred))\n"
   ]
  }
 ],
 "metadata": {
  "kernelspec": {
   "display_name": "Python 3",
   "language": "python",
   "name": "python3"
  },
  "language_info": {
   "codemirror_mode": {
    "name": "ipython",
    "version": 3
   },
   "file_extension": ".py",
   "mimetype": "text/x-python",
   "name": "python",
   "nbconvert_exporter": "python",
   "pygments_lexer": "ipython3",
   "version": "3.12.3"
  }
 },
 "nbformat": 4,
 "nbformat_minor": 2
}
